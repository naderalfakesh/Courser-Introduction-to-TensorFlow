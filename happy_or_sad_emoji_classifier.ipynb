{
  "nbformat": 4,
  "nbformat_minor": 0,
  "metadata": {
    "colab": {
      "name": "happy or sad emoji classifier",
      "version": "0.3.2",
      "provenance": [],
      "include_colab_link": true
    },
    "kernelspec": {
      "name": "python3",
      "display_name": "Python 3"
    },
    "accelerator": "GPU"
  },
  "cells": [
    {
      "cell_type": "markdown",
      "metadata": {
        "id": "view-in-github",
        "colab_type": "text"
      },
      "source": [
        "<a href=\"https://colab.research.google.com/github/naderalfakesh/Coursera-Introduction-to-TensorFlow/blob/master/happy_or_sad_emoji_classifier.ipynb\" target=\"_parent\"><img src=\"https://colab.research.google.com/assets/colab-badge.svg\" alt=\"Open In Colab\"/></a>"
      ]
    },
    {
      "cell_type": "markdown",
      "metadata": {
        "id": "UncprnB0ymAE",
        "colab_type": "text"
      },
      "source": [
        "Below is code with a link to a happy or sad dataset which contains 80 images, 40 happy and 40 sad. \n",
        "Create a convolutional neural network that trains to 100% accuracy on these images,  which cancels training upon hitting training accuracy of >.999\n",
        "\n",
        "Hint -- it will work best with 3 convolutional layers."
      ]
    },
    {
      "cell_type": "code",
      "metadata": {
        "id": "7Vti6p3PxmpS",
        "colab_type": "code",
        "outputId": "4577774a-cbb2-4e3e-f9ee-546a76c0ade2",
        "colab": {
          "base_uri": "https://localhost:8080/",
          "height": 219
        }
      },
      "source": [
        "import tensorflow as tf\n",
        "import os\n",
        "import zipfile\n",
        "\n",
        "\n",
        "DESIRED_ACCURACY = 0.999\n",
        "\n",
        "!wget --no-check-certificate \\\n",
        "    \"https://storage.googleapis.com/laurencemoroney-blog.appspot.com/happy-or-sad.zip\" \\\n",
        "    -O \"/tmp/happy-or-sad.zip\"\n",
        "\n",
        "zip_ref = zipfile.ZipFile(\"/tmp/happy-or-sad.zip\", 'r')\n",
        "zip_ref.extractall(\"/tmp/h-or-s\")\n",
        "zip_ref.close()\n",
        "\n",
        "class myCallback(tf.keras.callbacks.Callback):\n",
        "  def on_epoch_end(self,epoch,logs={}):\n",
        "    if(logs.get('acc') > DESIRED_ACCURACY):\n",
        "      print(\"\\n\\n!!!!!!!!!!!! We reached our goal yaaaay !!!!!!!!!!!!!\\n\\n\")\n",
        "      self.model.stop_training = True\n",
        "\n",
        "callbacks = myCallback()"
      ],
      "execution_count": 0,
      "outputs": [
        {
          "output_type": "stream",
          "text": [
            "--2019-08-15 17:25:11--  https://storage.googleapis.com/laurencemoroney-blog.appspot.com/happy-or-sad.zip\n",
            "Resolving storage.googleapis.com (storage.googleapis.com)... 108.177.111.128, 2607:f8b0:4001:c05::80\n",
            "Connecting to storage.googleapis.com (storage.googleapis.com)|108.177.111.128|:443... connected.\n",
            "HTTP request sent, awaiting response... 200 OK\n",
            "Length: 2670333 (2.5M) [application/zip]\n",
            "Saving to: ‘/tmp/happy-or-sad.zip’\n",
            "\n",
            "\r/tmp/happy-or-sad.z   0%[                    ]       0  --.-KB/s               \r/tmp/happy-or-sad.z 100%[===================>]   2.55M  --.-KB/s    in 0.02s   \n",
            "\n",
            "2019-08-15 17:25:12 (118 MB/s) - ‘/tmp/happy-or-sad.zip’ saved [2670333/2670333]\n",
            "\n"
          ],
          "name": "stdout"
        }
      ]
    },
    {
      "cell_type": "code",
      "metadata": {
        "id": "6DLGbXXI1j_V",
        "colab_type": "code",
        "colab": {}
      },
      "source": [
        "# This Code Block should Define and Compile the Model\n",
        "model = tf.keras.models.Sequential([\n",
        "    tf.keras.layers.Conv2D(16 , (3,3) , activation = 'relu' , input_shape = (150 , 150 , 3)),\n",
        "    tf.keras.layers.MaxPooling2D(2,2),\n",
        "    tf.keras.layers.Conv2D(32 ,(3,3) , activation = 'relu' ) ,\n",
        "    tf.keras.layers.MaxPooling2D(2,2),\n",
        "    tf.keras.layers.Conv2D(64 ,(3,3) , activation = 'relu' ) ,\n",
        "    tf.keras.layers.MaxPooling2D(2,2),\n",
        "    tf.keras.layers.Flatten(),\n",
        "    tf.keras.layers.Dense(1024 , activation = 'relu' ),\n",
        "    tf.keras.layers.Dense(1 , activation = 'sigmoid' )\n",
        "])\n",
        "\n",
        "from tensorflow.keras.optimizers import RMSprop\n",
        "\n",
        "model.compile(loss='binary_crossentropy',\n",
        "              optimizer=RMSprop(lr=0.001),\n",
        "              metrics=['acc'])"
      ],
      "execution_count": 0,
      "outputs": []
    },
    {
      "cell_type": "code",
      "metadata": {
        "id": "4Ap9fUJE1vVu",
        "colab_type": "code",
        "outputId": "befad66f-5dd1-46a1-9b33-0df0e5ae989c",
        "colab": {
          "base_uri": "https://localhost:8080/",
          "height": 35
        }
      },
      "source": [
        "# This code block should create an instance of an ImageDataGenerator called train_datagen \n",
        "# And a train_generator by calling train_datagen.flow_from_directory\n",
        "\n",
        "from tensorflow.keras.preprocessing.image import ImageDataGenerator\n",
        "\n",
        "train_datagen = ImageDataGenerator(rescale=1/255)\n",
        "\n",
        "train_generator = train_datagen.flow_from_directory(\n",
        "        '/tmp/h-or-s',\n",
        "        target_size = (150,150),\n",
        "        batch_size = 40,\n",
        "        class_mode='binary')\n",
        "\n",
        "# Expected output: 'Found 80 images belonging to 2 classes'"
      ],
      "execution_count": 0,
      "outputs": [
        {
          "output_type": "stream",
          "text": [
            "Found 80 images belonging to 2 classes.\n"
          ],
          "name": "stdout"
        }
      ]
    },
    {
      "cell_type": "code",
      "metadata": {
        "id": "48dLm13U1-Le",
        "colab_type": "code",
        "outputId": "0d58f6c6-6d75-4770-e728-766a44d23e4c",
        "colab": {
          "base_uri": "https://localhost:8080/",
          "height": 770
        }
      },
      "source": [
        "# This code block should call model.fit_generator and train for\n",
        "# a number of epochs. \n",
        "history = model.fit_generator(\n",
        "      train_generator,  \n",
        "      epochs=20,\n",
        "      callbacks = [callbacks]\n",
        ")\n",
        "    \n",
        "# Expected output: \"Reached 99.9% accuracy so cancelling training!\"\""
      ],
      "execution_count": 0,
      "outputs": [
        {
          "output_type": "stream",
          "text": [
            "Epoch 1/20\n",
            "2/2 [==============================] - 1s 505ms/step - loss: 8.1466 - acc: 0.5000\n",
            "Epoch 2/20\n",
            "2/2 [==============================] - 0s 108ms/step - loss: 1.5718 - acc: 0.5000\n",
            "Epoch 3/20\n",
            "2/2 [==============================] - 0s 90ms/step - loss: 0.7870 - acc: 0.5625\n",
            "Epoch 4/20\n",
            "2/2 [==============================] - 0s 103ms/step - loss: 0.6674 - acc: 0.6250\n",
            "Epoch 5/20\n",
            "2/2 [==============================] - 0s 100ms/step - loss: 0.6179 - acc: 0.4875\n",
            "Epoch 6/20\n",
            "2/2 [==============================] - 0s 97ms/step - loss: 0.4540 - acc: 0.7625\n",
            "Epoch 7/20\n",
            "2/2 [==============================] - 0s 96ms/step - loss: 0.8194 - acc: 0.6250\n",
            "Epoch 8/20\n",
            "2/2 [==============================] - 0s 100ms/step - loss: 0.4776 - acc: 0.7500\n",
            "Epoch 9/20\n",
            "2/2 [==============================] - 0s 96ms/step - loss: 0.3052 - acc: 0.8875\n",
            "Epoch 10/20\n",
            "2/2 [==============================] - 0s 101ms/step - loss: 0.1963 - acc: 0.9500\n",
            "Epoch 11/20\n",
            "2/2 [==============================] - 0s 99ms/step - loss: 0.3783 - acc: 0.7875\n",
            "Epoch 12/20\n",
            "2/2 [==============================] - 0s 95ms/step - loss: 0.2013 - acc: 0.9250\n",
            "Epoch 13/20\n",
            "2/2 [==============================] - 0s 99ms/step - loss: 0.1205 - acc: 0.9500\n",
            "Epoch 14/20\n",
            "2/2 [==============================] - 0s 99ms/step - loss: 0.1476 - acc: 0.9625\n",
            "Epoch 15/20\n",
            "2/2 [==============================] - 0s 101ms/step - loss: 0.1744 - acc: 0.9500\n",
            "Epoch 16/20\n",
            "2/2 [==============================] - 0s 94ms/step - loss: 0.0798 - acc: 0.9625\n",
            "Epoch 17/20\n",
            "2/2 [==============================] - 0s 98ms/step - loss: 0.0684 - acc: 0.9875\n",
            "Epoch 18/20\n",
            "1/2 [==============>...............] - ETA: 0s - loss: 0.0690 - acc: 1.0000\n",
            "\n",
            "!!!!!!!!!!!! We reached our goal yaaaay !!!!!!!!!!!!!\n",
            "\n",
            "\n",
            "2/2 [==============================] - 0s 99ms/step - loss: 0.0569 - acc: 1.0000\n"
          ],
          "name": "stdout"
        }
      ]
    }
  ]
}